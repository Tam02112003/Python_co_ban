{
  "nbformat": 4,
  "nbformat_minor": 0,
  "metadata": {
    "colab": {
      "provenance": [],
      "authorship_tag": "ABX9TyM8Q1KAz5Z737QUo7FY7/2T",
      "include_colab_link": true
    },
    "kernelspec": {
      "name": "python3",
      "display_name": "Python 3"
    },
    "language_info": {
      "name": "python"
    }
  },
  "cells": [
    {
      "cell_type": "markdown",
      "metadata": {
        "id": "view-in-github",
        "colab_type": "text"
      },
      "source": [
        "<a href=\"https://colab.research.google.com/github/Tam02112003/Python_co_ban/blob/main/Pyspark_c%C6%A1_b%E1%BA%A3n.ipynb\" target=\"_parent\"><img src=\"https://colab.research.google.com/assets/colab-badge.svg\" alt=\"Open In Colab\"/></a>"
      ]
    },
    {
      "cell_type": "code",
      "execution_count": null,
      "metadata": {
        "id": "_GMlfcvc1xDl"
      },
      "outputs": [],
      "source": []
    },
    {
      "cell_type": "code",
      "source": [
        "\"\"\"\n",
        "SpySpark don gian\n",
        "\"\"\"\n",
        "from pyspark.sql import SparkSession\n",
        "\n",
        "# Khởi tạo SparkSession\n",
        "spark = SparkSession.builder \\\n",
        "    .appName(\"PySpark Basic Example\") \\\n",
        "    .getOrCreate()\n",
        "\n",
        "# Dữ liệu mẫu\n",
        "data = [(\"Alice\", 25), (\"Bob\", 30), (\"Charlie\", 28)]\n",
        "columns = [\"Name\", \"Age\"]\n",
        "\n",
        "\n",
        "# Tạo DataFrame\n",
        "df = spark.createDataFrame(data, columns)\n",
        "\n",
        "df.show()\n",
        "\n"
      ],
      "metadata": {
        "colab": {
          "base_uri": "https://localhost:8080/"
        },
        "id": "wP48WbYq116H",
        "outputId": "e67f1220-41e4-43c1-c1b5-135f0c3ada34"
      },
      "execution_count": null,
      "outputs": [
        {
          "output_type": "stream",
          "name": "stdout",
          "text": [
            "+-------+---+\n",
            "|   Name|Age|\n",
            "+-------+---+\n",
            "|  Alice| 25|\n",
            "|    Bob| 30|\n",
            "|Charlie| 28|\n",
            "+-------+---+\n",
            "\n"
          ]
        }
      ]
    },
    {
      "cell_type": "code",
      "source": [
        "# Lấy schema\n",
        "df.printSchema()\n",
        "\n",
        "# Lọc dữ liệu (người trên 26 tuổi)\n",
        "df.filter(df[\"Age\"] > 26).show()\n",
        "\n",
        "# Chọn cột\n",
        "df.select(\"Name\").show()\n",
        "\n",
        "# Thêm cột mới\n",
        "from pyspark.sql.functions import col\n",
        "df = df.withColumn(\"AgePlus5\", col(\"Age\") + 5)\n",
        "df.show()\n"
      ],
      "metadata": {
        "colab": {
          "base_uri": "https://localhost:8080/"
        },
        "id": "ods9RXTi5Ixq",
        "outputId": "75424b9d-b443-4e00-bbe0-6e33290f374a"
      },
      "execution_count": 2,
      "outputs": [
        {
          "output_type": "stream",
          "name": "stdout",
          "text": [
            "root\n",
            " |-- Name: string (nullable = true)\n",
            " |-- Age: long (nullable = true)\n",
            "\n",
            "+-------+---+\n",
            "|   Name|Age|\n",
            "+-------+---+\n",
            "|    Bob| 30|\n",
            "|Charlie| 28|\n",
            "+-------+---+\n",
            "\n",
            "+-------+\n",
            "|   Name|\n",
            "+-------+\n",
            "|  Alice|\n",
            "|    Bob|\n",
            "|Charlie|\n",
            "+-------+\n",
            "\n",
            "+-------+---+--------+\n",
            "|   Name|Age|AgePlus5|\n",
            "+-------+---+--------+\n",
            "|  Alice| 25|      30|\n",
            "|    Bob| 30|      35|\n",
            "|Charlie| 28|      33|\n",
            "+-------+---+--------+\n",
            "\n"
          ]
        }
      ]
    },
    {
      "cell_type": "code",
      "source": [
        "data = [(\"Alice\", \"Math\", 90), (\"Alice\", \"English\", 85),\n",
        "        (\"Bob\", \"Math\", 75), (\"Bob\", \"English\", 80)]\n",
        "columns = [\"Name\", \"Subject\", \"Score\"]\n",
        "df = spark.createDataFrame(data, columns)\n",
        "\n",
        "# Trung bình điểm theo tên\n",
        "df.groupBy(\"Name\").avg(\"Score\").show()\n",
        "\n",
        "# Đếm số môn mỗi người học\n",
        "df.groupBy(\"Name\").count().show()\n"
      ],
      "metadata": {
        "colab": {
          "base_uri": "https://localhost:8080/"
        },
        "id": "Np00tx9D5Q35",
        "outputId": "c16d7b94-c3b2-4987-c4bb-416d2bb76fcd"
      },
      "execution_count": 3,
      "outputs": [
        {
          "output_type": "stream",
          "name": "stdout",
          "text": [
            "+-----+----------+\n",
            "| Name|avg(Score)|\n",
            "+-----+----------+\n",
            "|Alice|      87.5|\n",
            "|  Bob|      77.5|\n",
            "+-----+----------+\n",
            "\n",
            "+-----+-----+\n",
            "| Name|count|\n",
            "+-----+-----+\n",
            "|Alice|    2|\n",
            "|  Bob|    2|\n",
            "+-----+-----+\n",
            "\n"
          ]
        }
      ]
    },
    {
      "cell_type": "code",
      "source": [
        "from pyspark.sql.functions import udf\n",
        "from pyspark.sql.types import StringType\n",
        "\n",
        "def convert_score(score):\n",
        "    if score >= 85:\n",
        "        return \"A\"\n",
        "    elif score >= 70:\n",
        "        return \"B\"\n",
        "    else:\n",
        "        return \"C\"\n",
        "\n",
        "grade_udf = udf(convert_score, StringType())\n",
        "\n",
        "df = df.withColumn(\"Grade\", grade_udf(df[\"Score\"]))\n",
        "df.show()\n"
      ],
      "metadata": {
        "colab": {
          "base_uri": "https://localhost:8080/"
        },
        "id": "eLe0PzAt5hvn",
        "outputId": "09a81b98-c07b-4264-f1d6-8b36ccaf88e1"
      },
      "execution_count": 4,
      "outputs": [
        {
          "output_type": "stream",
          "name": "stdout",
          "text": [
            "+-----+-------+-----+-----+\n",
            "| Name|Subject|Score|Grade|\n",
            "+-----+-------+-----+-----+\n",
            "|Alice|   Math|   90|    A|\n",
            "|Alice|English|   85|    A|\n",
            "|  Bob|   Math|   75|    B|\n",
            "|  Bob|English|   80|    B|\n",
            "+-----+-------+-----+-----+\n",
            "\n"
          ]
        }
      ]
    },
    {
      "cell_type": "code",
      "source": [
        "# Đọc CSV\n",
        "df_csv = spark.read.option(\"header\", True).csv(\"students.csv\")\n",
        "df_csv.show()\n",
        "\n",
        "# Ghi ra Parquet\n",
        "df.write.parquet(\"output_students.parquet\")\n"
      ],
      "metadata": {
        "colab": {
          "base_uri": "https://localhost:8080/"
        },
        "id": "HUIXuWCH54bV",
        "outputId": "92f9986d-9709-4278-c613-19014cb02d1d"
      },
      "execution_count": 6,
      "outputs": [
        {
          "output_type": "stream",
          "name": "stdout",
          "text": [
            "+---+-------+---+------+-----+\n",
            "| ID|   Name|Age|Gender|Score|\n",
            "+---+-------+---+------+-----+\n",
            "|  1|  Alice| 20|Female|   85|\n",
            "|  2|    Bob| 22|  Male|   78|\n",
            "|  3|Charlie| 21|  Male|   90|\n",
            "|  4|  Diana| 23|Female|   92|\n",
            "|  5|    Eva| 20|Female|   88|\n",
            "|  6|  Frank| 24|  Male|   75|\n",
            "+---+-------+---+------+-----+\n",
            "\n"
          ]
        }
      ]
    },
    {
      "cell_type": "code",
      "source": [
        "from pyspark.ml.feature import VectorAssembler\n",
        "from pyspark.ml.regression import LinearRegression\n",
        "\n",
        "# Dữ liệu mẫu\n",
        "data = [(1, 1.0), (2, 2.0), (3, 2.9), (4, 4.1), (5, 5.0)]\n",
        "df = spark.createDataFrame(data, [\"x\", \"y\"])\n",
        "\n",
        "# Chuyển thành vector features\n",
        "vec = VectorAssembler(inputCols=[\"x\"], outputCol=\"features\")\n",
        "df = vec.transform(df)\n",
        "\n",
        "# Huấn luyện mô hình hồi quy tuyến tính\n",
        "lr = LinearRegression(featuresCol=\"features\", labelCol=\"y\")\n",
        "model = lr.fit(df)\n",
        "\n",
        "# Dự đoán\n",
        "pred = model.transform(df)\n",
        "pred.select(\"x\", \"y\", \"prediction\").show()\n"
      ],
      "metadata": {
        "colab": {
          "base_uri": "https://localhost:8080/"
        },
        "id": "qZPRRtXL62RY",
        "outputId": "580d8254-67b7-4617-a476-bc7816e2c4f0"
      },
      "execution_count": 13,
      "outputs": [
        {
          "output_type": "stream",
          "name": "stdout",
          "text": [
            "+---+---+------------------+\n",
            "|  x|  y|        prediction|\n",
            "+---+---+------------------+\n",
            "|  1|1.0|0.9800000000000015|\n",
            "|  2|2.0|1.9900000000000009|\n",
            "|  3|2.9|               3.0|\n",
            "|  4|4.1|              4.01|\n",
            "|  5|5.0|              5.02|\n",
            "+---+---+------------------+\n",
            "\n"
          ]
        }
      ]
    }
  ]
}